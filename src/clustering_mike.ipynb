{
 "cells": [
  {
   "cell_type": "code",
   "execution_count": 16,
   "metadata": {},
   "outputs": [],
   "source": [
    "import numpy as np\n",
    "import pandas as pd\n",
    "import datetime"
   ]
  },
  {
   "cell_type": "markdown",
   "metadata": {},
   "source": [
    "# 1. Functions"
   ]
  },
  {
   "cell_type": "code",
   "execution_count": 2,
   "metadata": {},
   "outputs": [],
   "source": [
    "def add_day_of_year_column(df_src, column_name='date'):\n",
    "    df_out = df_src.copy()\n",
    "    df_out['day_of_year'] = df_out[column_name].apply(lambda d: date_to_nth_day(str(d)))\n",
    "    return df_out\n",
    "\n",
    "def date_to_nth_day(date, format='%Y%m%d'):\n",
    "    date = datetime.datetime.strptime(date, format)\n",
    "    new_year_day = datetime.datetime(year=date.year, month=1, day=1)\n",
    "    return (date - new_year_day).days + 1 + (365 * (date.year - 2014))"
   ]
  },
  {
   "cell_type": "markdown",
   "metadata": {},
   "source": [
    "# 2. Generating Cluster File\n",
    "\n",
    "*Idea:* _Cluster the stations based on the existing training data and add the cluster groups as additional input for predictions_"
   ]
  },
  {
   "cell_type": "code",
   "execution_count": 3,
   "metadata": {},
   "outputs": [],
   "source": [
    "df_time_path = '../data/tmp/df_time.csv'\n",
    "df_time = pd.read_csv(df_time_path)\n",
    "df_time = df_time.drop(['Unnamed: 0'], axis=1)"
   ]
  },
  {
   "cell_type": "code",
   "execution_count": 4,
   "metadata": {},
   "outputs": [
    {
     "data": {
      "text/plain": [
       "(18683824, 3)"
      ]
     },
     "execution_count": 4,
     "metadata": {},
     "output_type": "execute_result"
    }
   ],
   "source": [
    "df_time.shape"
   ]
  },
  {
   "cell_type": "code",
   "execution_count": 5,
   "metadata": {},
   "outputs": [
    {
     "data": {
      "text/html": [
       "<div>\n",
       "<style scoped>\n",
       "    .dataframe tbody tr th:only-of-type {\n",
       "        vertical-align: middle;\n",
       "    }\n",
       "\n",
       "    .dataframe tbody tr th {\n",
       "        vertical-align: top;\n",
       "    }\n",
       "\n",
       "    .dataframe thead th {\n",
       "        text-align: right;\n",
       "    }\n",
       "</style>\n",
       "<table border=\"1\" class=\"dataframe\">\n",
       "  <thead>\n",
       "    <tr style=\"text-align: right;\">\n",
       "      <th></th>\n",
       "      <th>station</th>\n",
       "      <th>date</th>\n",
       "      <th>TMIN</th>\n",
       "    </tr>\n",
       "  </thead>\n",
       "  <tbody>\n",
       "    <tr>\n",
       "      <th>0</th>\n",
       "      <td>AE000041196</td>\n",
       "      <td>20140101</td>\n",
       "      <td>128</td>\n",
       "    </tr>\n",
       "    <tr>\n",
       "      <th>1</th>\n",
       "      <td>AE000041196</td>\n",
       "      <td>20140102</td>\n",
       "      <td>145</td>\n",
       "    </tr>\n",
       "    <tr>\n",
       "      <th>2</th>\n",
       "      <td>AE000041196</td>\n",
       "      <td>20140103</td>\n",
       "      <td>140</td>\n",
       "    </tr>\n",
       "    <tr>\n",
       "      <th>3</th>\n",
       "      <td>AE000041196</td>\n",
       "      <td>20140106</td>\n",
       "      <td>162</td>\n",
       "    </tr>\n",
       "    <tr>\n",
       "      <th>4</th>\n",
       "      <td>AE000041196</td>\n",
       "      <td>20140109</td>\n",
       "      <td>115</td>\n",
       "    </tr>\n",
       "  </tbody>\n",
       "</table>\n",
       "</div>"
      ],
      "text/plain": [
       "       station      date  TMIN\n",
       "0  AE000041196  20140101   128\n",
       "1  AE000041196  20140102   145\n",
       "2  AE000041196  20140103   140\n",
       "3  AE000041196  20140106   162\n",
       "4  AE000041196  20140109   115"
      ]
     },
     "execution_count": 5,
     "metadata": {},
     "output_type": "execute_result"
    }
   ],
   "source": [
    "df_time.head()"
   ]
  },
  {
   "cell_type": "code",
   "execution_count": 30,
   "metadata": {},
   "outputs": [],
   "source": [
    "df_test = df_time.copy()\n",
    "df_test.head()\n",
    "df_test['date'] = df_test['date'].apply(lambda d: date_to_nth_day(str(d)))\n",
    "\n",
    "# create pivot table\n",
    "df_test = df_test.drop_duplicates(['station','date'])\n",
    "df_pivot = df_test.pivot(index='station', columns='date', values='TMIN')\n",
    "\n",
    "#fill NaN value forward\n",
    "df_pivot = df_pivot.fillna(method='ffill', axis=1)\n",
    "df_pivot = df_pivot.fillna(method='bfill', axis=1)\n",
    "df_pivot = df_pivot.groupby('station').min()\n",
    "df_flattened = pd.DataFrame(df_pivot.to_records())"
   ]
  },
  {
   "cell_type": "code",
   "execution_count": 31,
   "metadata": {},
   "outputs": [],
   "source": [
    "df_flattened.to_csv('../data/cluster/pre_clustering_temperature.csv', index=False)"
   ]
  },
  {
   "cell_type": "markdown",
   "metadata": {},
   "source": [
    "# Cluster by min temperature similarity"
   ]
  },
  {
   "cell_type": "code",
   "execution_count": 32,
   "metadata": {},
   "outputs": [],
   "source": [
    "from sklearn.metrics import silhouette_score\n",
    "from sklearn.cluster import KMeans"
   ]
  },
  {
   "cell_type": "code",
   "execution_count": 33,
   "metadata": {},
   "outputs": [
    {
     "data": {
      "text/plain": [
       "(15693, 1461)"
      ]
     },
     "execution_count": 33,
     "metadata": {},
     "output_type": "execute_result"
    }
   ],
   "source": [
    "df_cluster = pd.read_csv('../data/cluster/pre_clustering_temperature.csv')\n",
    "\n",
    "df_cluster.shape"
   ]
  },
  {
   "cell_type": "code",
   "execution_count": 37,
   "metadata": {},
   "outputs": [
    {
     "name": "stdout",
     "output_type": "stream",
     "text": [
      "[2] ::  0.6471952324670596\n",
      "[3] ::  0.3642574322677954\n",
      "[4] ::  0.39224778524803394\n",
      "[5] ::  0.39816395950740663\n",
      "[6] ::  0.28035943738262303\n",
      "[7] ::  0.27845426073328494\n",
      "[8] ::  0.28048407311586004\n",
      "[9] ::  0.2188297094813378\n",
      "[10] ::  0.21228048682290623\n",
      "[15] ::  0.1869396493580017\n",
      "[25] ::  0.18329619299842154\n",
      "[50] ::  0.17115282966464485\n",
      "[100] ::  0.15177252162684304\n",
      "[500] ::  0.1218328967231512\n"
     ]
    }
   ],
   "source": [
    "results = []\n",
    "df_silhouette = df_cluster.drop('station', axis=1)[:1000]\n",
    "\n",
    "df_silhouette.head()\n",
    "for i in [2, 3, 4, 5, 6, 7, 8, 9, 10, 15, 25, 50, 100, 500]:\n",
    "    kmeans = KMeans(n_clusters=i, random_state=1).fit(df_silhouette)\n",
    "    score = silhouette_score(df_silhouette, kmeans.labels_)\n",
    "    print('[' + str(i) + '] :: ', score)\n",
    "    results.append((i, score))"
   ]
  },
  {
   "cell_type": "code",
   "execution_count": 49,
   "metadata": {},
   "outputs": [
    {
     "data": {
      "text/plain": [
       "array([1., 0., 2., 4., 3., 5.])"
      ]
     },
     "execution_count": 49,
     "metadata": {},
     "output_type": "execute_result"
    }
   ],
   "source": [
    "selected_k = 5\n",
    "\n",
    "kmeans = KMeans(n_clusters=selected_k, random_state=1).fit(df_silhouette)\n",
    "\n",
    "df_station_cluster_labels = pd.DataFrame(columns=['station', 'cluster_id'])\n",
    "df_station_cluster_labels['station'] = df_cluster['station']\n",
    "df_station_cluster_labels['cluster_id'] = pd.Series(kmeans.labels_)\n",
    "\n",
    "df_station_cluster_labels = df_station_cluster_labels.fillna(5)\n",
    "\n",
    "\n",
    "df_station_cluster_labels.to_csv('../data/cluster/station_clustertemperature.csv', index=False)"
   ]
  },
  {
   "cell_type": "markdown",
   "metadata": {},
   "source": [
    "# Cluster by location"
   ]
  },
  {
   "cell_type": "code",
   "execution_count": null,
   "metadata": {},
   "outputs": [],
   "source": [
    "from sklearn.metrics import silhouette_score\n",
    "from sklearn.cluster import KMeans"
   ]
  },
  {
   "cell_type": "code",
   "execution_count": null,
   "metadata": {},
   "outputs": [],
   "source": [
    "results = []\n",
    "df_red = df_flattened.drop('station')\n",
    "for i in range(2,1000,100):\n",
    "    kmeans = KMeans(n_clusters=i, random_state=1).fit(df_head)\n",
    "    score = silhouette_score(df_head, kmeans.labels_)\n",
    "    print('[' + str(i) + '] :: ', score)\n",
    "    results.append((i, score))"
   ]
  },
  {
   "cell_type": "code",
   "execution_count": null,
   "metadata": {},
   "outputs": [],
   "source": [
    "best_k, best_score = select_max(results)\n",
    "\n",
    "k = best_k # best result\n",
    "\n",
    "kmeans = KMeans(n_clusters=k, random_state=0).fit(df_pivot)\n",
    "\n",
    "clustering = []\n",
    "for i in range(0, k):\n",
    "    clustering.append([[],[],[]])\n",
    "    \n",
    "for i, e in enumerate(df_pivot):\n",
    "    c_i = kmeans.labels_[i]\n",
    "    clustering[c_i][0].append(e[0])\n",
    "    clustering[c_i][1].append(e[1])\n",
    "    clustering[c_i][2].append(e[2])\n",
    "\n",
    "for c, s in enumerate(clustering):\n",
    "    print('C' + str(c), ':: ')\n",
    "    plt.figure(1,figsize=(12,5))\n",
    "    plt.subplot(221)\n",
    "    plt.scatter(s[0], s[1])\n",
    "    plt.scatter(kmeans.cluster_centers_[c][0],kmeans.cluster_centers_[c][1])\n",
    "    plt.legend(['Training Data','Cluster Center'])\n",
    "    plt.subplot(222)\n",
    "    plt.scatter(s[0], s[2])\n",
    "    plt.scatter(kmeans.cluster_centers_[c][0],kmeans.cluster_centers_[c][2])\n",
    "    plt.legend(['Training Data','Cluster Center'])\n",
    "    plt.subplot(223)\n",
    "    plt.scatter(s[1], s[2])\n",
    "    plt.scatter(kmeans.cluster_centers_[c][1],kmeans.cluster_centers_[c][2])\n",
    "    plt.legend(['Training Data','Cluster Center'])\n",
    "    plt.show()"
   ]
  },
  {
   "cell_type": "code",
   "execution_count": null,
   "metadata": {},
   "outputs": [],
   "source": []
  }
 ],
 "metadata": {
  "kernelspec": {
   "display_name": "Python 3",
   "language": "python",
   "name": "python3"
  },
  "language_info": {
   "codemirror_mode": {
    "name": "ipython",
    "version": 3
   },
   "file_extension": ".py",
   "mimetype": "text/x-python",
   "name": "python",
   "nbconvert_exporter": "python",
   "pygments_lexer": "ipython3",
   "version": "3.6.4"
  }
 },
 "nbformat": 4,
 "nbformat_minor": 2
}
