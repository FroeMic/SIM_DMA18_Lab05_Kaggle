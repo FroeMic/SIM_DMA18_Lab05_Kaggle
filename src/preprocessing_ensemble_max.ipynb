{
 "cells": [
  {
   "cell_type": "code",
   "execution_count": 1,
   "metadata": {},
   "outputs": [],
   "source": [
    "import numpy as np\n",
    "import pandas as pd"
   ]
  },
  {
   "cell_type": "markdown",
   "metadata": {},
   "source": [
    "# Preprocessing"
   ]
  },
  {
   "cell_type": "code",
   "execution_count": 2,
   "metadata": {},
   "outputs": [],
   "source": [
    "COLUMNS = ['station','date','feature', 'value', 'measurement','quality', 'source', 'hour']"
   ]
  },
  {
   "cell_type": "code",
   "execution_count": 3,
   "metadata": {},
   "outputs": [],
   "source": [
    "#Transform Data to meaningful features\n",
    "df = pd.read_csv('../data/2014.csv', header=None, names=COLUMNS)"
   ]
  },
  {
   "cell_type": "code",
   "execution_count": 4,
   "metadata": {},
   "outputs": [],
   "source": [
    "df = df.append(pd.read_csv('../data/2015.csv', header=None, names=COLUMNS))\n",
    "df = df.append(pd.read_csv('../data/2016.csv', header=None, names=COLUMNS))\n",
    "df = df.append(pd.read_csv('../data/2017.csv', header=None, names=COLUMNS))"
   ]
  },
  {
   "cell_type": "code",
   "execution_count": 5,
   "metadata": {},
   "outputs": [
    {
     "data": {
      "text/html": [
       "<div>\n",
       "<style scoped>\n",
       "    .dataframe tbody tr th:only-of-type {\n",
       "        vertical-align: middle;\n",
       "    }\n",
       "\n",
       "    .dataframe tbody tr th {\n",
       "        vertical-align: top;\n",
       "    }\n",
       "\n",
       "    .dataframe thead th {\n",
       "        text-align: right;\n",
       "    }\n",
       "</style>\n",
       "<table border=\"1\" class=\"dataframe\">\n",
       "  <thead>\n",
       "    <tr style=\"text-align: right;\">\n",
       "      <th></th>\n",
       "      <th>station</th>\n",
       "      <th>date</th>\n",
       "      <th>feature</th>\n",
       "      <th>value</th>\n",
       "      <th>measurement</th>\n",
       "      <th>quality</th>\n",
       "      <th>source</th>\n",
       "      <th>hour</th>\n",
       "    </tr>\n",
       "  </thead>\n",
       "  <tbody>\n",
       "    <tr>\n",
       "      <th>0</th>\n",
       "      <td>ASN00015643</td>\n",
       "      <td>20140101</td>\n",
       "      <td>TMAX</td>\n",
       "      <td>424</td>\n",
       "      <td>NaN</td>\n",
       "      <td>NaN</td>\n",
       "      <td>a</td>\n",
       "      <td>NaN</td>\n",
       "    </tr>\n",
       "    <tr>\n",
       "      <th>1</th>\n",
       "      <td>ASN00015643</td>\n",
       "      <td>20140101</td>\n",
       "      <td>TMIN</td>\n",
       "      <td>227</td>\n",
       "      <td>NaN</td>\n",
       "      <td>NaN</td>\n",
       "      <td>a</td>\n",
       "      <td>NaN</td>\n",
       "    </tr>\n",
       "    <tr>\n",
       "      <th>2</th>\n",
       "      <td>ASN00015643</td>\n",
       "      <td>20140101</td>\n",
       "      <td>PRCP</td>\n",
       "      <td>0</td>\n",
       "      <td>NaN</td>\n",
       "      <td>NaN</td>\n",
       "      <td>a</td>\n",
       "      <td>NaN</td>\n",
       "    </tr>\n",
       "    <tr>\n",
       "      <th>3</th>\n",
       "      <td>US1MNCV0008</td>\n",
       "      <td>20140101</td>\n",
       "      <td>PRCP</td>\n",
       "      <td>0</td>\n",
       "      <td>NaN</td>\n",
       "      <td>NaN</td>\n",
       "      <td>N</td>\n",
       "      <td>NaN</td>\n",
       "    </tr>\n",
       "    <tr>\n",
       "      <th>4</th>\n",
       "      <td>US1MNCV0008</td>\n",
       "      <td>20140101</td>\n",
       "      <td>SNOW</td>\n",
       "      <td>0</td>\n",
       "      <td>NaN</td>\n",
       "      <td>NaN</td>\n",
       "      <td>N</td>\n",
       "      <td>NaN</td>\n",
       "    </tr>\n",
       "  </tbody>\n",
       "</table>\n",
       "</div>"
      ],
      "text/plain": [
       "       station      date feature  value measurement quality source  hour\n",
       "0  ASN00015643  20140101    TMAX    424         NaN     NaN      a   NaN\n",
       "1  ASN00015643  20140101    TMIN    227         NaN     NaN      a   NaN\n",
       "2  ASN00015643  20140101    PRCP      0         NaN     NaN      a   NaN\n",
       "3  US1MNCV0008  20140101    PRCP      0         NaN     NaN      N   NaN\n",
       "4  US1MNCV0008  20140101    SNOW      0         NaN     NaN      N   NaN"
      ]
     },
     "execution_count": 5,
     "metadata": {},
     "output_type": "execute_result"
    }
   ],
   "source": [
    "df.head()"
   ]
  },
  {
   "cell_type": "code",
   "execution_count": 6,
   "metadata": {
    "scrolled": true
   },
   "outputs": [],
   "source": [
    "#Only selecting features who are available in Test Set + Feature to be predicted\n",
    "selected_features = ['TMIN']"
   ]
  },
  {
   "cell_type": "code",
   "execution_count": 7,
   "metadata": {},
   "outputs": [],
   "source": [
    "df = df[df['feature'].isin(selected_features)]"
   ]
  },
  {
   "cell_type": "code",
   "execution_count": 8,
   "metadata": {},
   "outputs": [],
   "source": [
    "df_pivot = df.pivot_table(index=['station','date'], columns='feature', values='value', aggfunc=np.min)"
   ]
  },
  {
   "cell_type": "code",
   "execution_count": 9,
   "metadata": {},
   "outputs": [],
   "source": [
    "#Include Location Information?\n",
    "df_stations = pd.read_csv('../data/ghcnd-stations.csv', header=None, names=['station','lat', 'long', 'elev'], sep=';')"
   ]
  },
  {
   "cell_type": "code",
   "execution_count": 10,
   "metadata": {},
   "outputs": [],
   "source": [
    "df_stations = df_stations.set_index('station')"
   ]
  },
  {
   "cell_type": "code",
   "execution_count": 11,
   "metadata": {},
   "outputs": [
    {
     "data": {
      "text/plain": [
       "18683824"
      ]
     },
     "execution_count": 11,
     "metadata": {},
     "output_type": "execute_result"
    }
   ],
   "source": [
    "df_time = df_pivot['TMIN']\n",
    "df_time = df_time.reset_index()\n",
    "len(df_time)"
   ]
  },
  {
   "cell_type": "code",
   "execution_count": 13,
   "metadata": {},
   "outputs": [],
   "source": [
    "stations = df_time.station.unique()"
   ]
  },
  {
   "cell_type": "code",
   "execution_count": 14,
   "metadata": {},
   "outputs": [],
   "source": [
    "def derive_all_nth_day_features(input_data, feature, N):\n",
    "    '''\n",
    "        Generates a new dataframe with <feature>_1 .. <feature>_N columns\n",
    "        which represent the feature values of the previous N days.\n",
    "    \n",
    "        @param input_data:  Pandas dataframe with columns \n",
    "                            'station', 'date' and <feature>.\n",
    "                            Needs to be ordered by station and date.\n",
    "        @param feature:     Name of the feature column that should be used.\n",
    "        @param N:           How many feature columns should be generated.\n",
    "    '''\n",
    "    \n",
    "    # avoid side effects on input dataframe\n",
    "    data = input_data.copy()\n",
    "    \n",
    "    # add empty columns\n",
    "    col_name_for = lambda n: \"{}_{}\".format(feature, n)\n",
    "    for i in range(1, N+1):\n",
    "        data[col_name_for(i)] = [None]*len(data)\n",
    "\n",
    "    # iterate over all stations and write compute the new columns\n",
    "    for i, station in enumerate(stations):\n",
    "        rows_for_station = data[data['station']==station]\n",
    "        first_index = rows_for_station.index[0]\n",
    "        \n",
    "        # add verbose output to see whether stuff is still running\n",
    "        print (''*20, '\\r', end='')\n",
    "        print (i+1, '/', len(stations), '::', station, '\\r', end='')\n",
    "        \n",
    "        for row_index in range(first_index, len(rows_for_station)):\n",
    "            for i in range(1, N+1):\n",
    "                if (row_index - i >= first_index):\n",
    "                    data.at[row_index, col_name_for(i)] = data.loc[row_index-i,feature]\n",
    "\n",
    "    print('')\n",
    "    return data"
   ]
  },
  {
   "cell_type": "code",
   "execution_count": null,
   "metadata": {
    "scrolled": false
   },
   "outputs": [],
   "source": [
    "N = 20\n",
    "file_path = '../data/export_features_2014_{}.csv'.format(N)\n",
    "df_train = derive_all_nth_day_features(df_time, 'TMIN', N)\n",
    "df_train.to_csv(file_path)\n",
    "\n",
    "df_train.head()"
   ]
  },
  {
   "cell_type": "code",
   "execution_count": null,
   "metadata": {},
   "outputs": [],
   "source": []
  }
 ],
 "metadata": {
  "kernelspec": {
   "display_name": "Python 3",
   "language": "python",
   "name": "python3"
  },
  "language_info": {
   "codemirror_mode": {
    "name": "ipython",
    "version": 3
   },
   "file_extension": ".py",
   "mimetype": "text/x-python",
   "name": "python",
   "nbconvert_exporter": "python",
   "pygments_lexer": "ipython3",
   "version": "3.6.4"
  }
 },
 "nbformat": 4,
 "nbformat_minor": 2
}
