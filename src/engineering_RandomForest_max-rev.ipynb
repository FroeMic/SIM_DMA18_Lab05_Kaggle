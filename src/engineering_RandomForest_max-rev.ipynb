{
 "cells": [
  {
   "cell_type": "code",
   "execution_count": 17,
   "metadata": {},
   "outputs": [],
   "source": [
    "import numpy as np\n",
    "import pandas as pd\n",
    "from matplotlib import pyplot\n",
    "from datetime import datetime, timedelta\n",
    "\n",
    "from sklearn.preprocessing import StandardScaler, MinMaxScaler, LabelBinarizer\n",
    "from sklearn.preprocessing import LabelEncoder, OneHotEncoder\n",
    "from sklearn.feature_extraction import DictVectorizer\n",
    "from sklearn.model_selection import GridSearchCV, RandomizedSearchCV\n",
    "from sklearn.externals import joblib\n",
    "\n",
    "from sklearn.metrics import mean_squared_error\n",
    "\n",
    "from sklearn.ensemble import RandomForestRegressor\n",
    "\n",
    "import warnings\n",
    "warnings.simplefilter(action='ignore', category=FutureWarning) #to supress import warnings"
   ]
  },
  {
   "cell_type": "markdown",
   "metadata": {},
   "source": [
    "# Preprocessing Data"
   ]
  },
  {
   "cell_type": "markdown",
   "metadata": {},
   "source": [
    "### Getting the data ready for Random Forest"
   ]
  },
  {
   "cell_type": "code",
   "execution_count": 34,
   "metadata": {},
   "outputs": [],
   "source": [
    "# importing the preprocessed data for a quicker start\n",
    "\n",
    "TRAIN_FILE = '../data/tmp/export_LSMT_MAX_yd.csv'\n",
    "STATIONS_FILE = '../data/ghcnd-stations.csv'\n",
    "\n",
    "def get_original_df():\n",
    "    df_original = pd.read_csv(TRAIN_FILE)\n",
    "    df_original = df_original.drop(['Unnamed: 0'], axis=1)\n",
    "    return df_original\n",
    "\n",
    "def get_station_df():\n",
    "     return pd.read_csv(STATIONS_FILE, header=None, names=['station','lat', 'long', 'elev'], sep=';')\n",
    "\n",
    "def add_coordinates(df_src, df_stations, src_index='station', foreign_index='station'):\n",
    "    df_out = df_src.copy()\n",
    "    return df_out.join(df_stations.set_index(foreign_index), on=src_index)\n",
    "\n",
    "\n",
    "def add_day_of_year_column(df_src, column_name='date'):\n",
    "    df_out = df_src.copy()\n",
    "    df_out['day'] = df_out[column_name].apply(lambda d: date_to_nth_day(str(d)))\n",
    "    return df_out\n",
    "\n",
    "def date_to_nth_day(date, format='%Y%m%d'):\n",
    "    date = datetime.strptime(date, format)\n",
    "    new_year_day = datetime(year=date.year, month=1, day=1)\n",
    "    return (date - new_year_day).days + 1"
   ]
  },
  {
   "cell_type": "code",
   "execution_count": 27,
   "metadata": {},
   "outputs": [],
   "source": [
    "df = pd.read_csv('../data/tmp/export_LSMT_MAX_yd.csv', index_col=0, low_memory=False)"
   ]
  },
  {
   "cell_type": "code",
   "execution_count": 3,
   "metadata": {},
   "outputs": [],
   "source": [
    "# pick random stations for test and training\n",
    "seed = 93598357\n",
    "np.random.seed(seed)\n",
    "stations = df.station.unique()\n",
    "np.random.shuffle(stations)\n",
    "stations_shuffled = stations\n",
    "fraction = 64\n",
    "stations_train = stations_shuffled[:int(np.round(len(stations)/fraction))]\n",
    "stations_holdout14 = stations_shuffled[int(np.round(len(stations)/fraction)):int(np.round(len(stations)/fraction*2))]\n",
    "stations_holdout15 = stations_shuffled[int(np.round(len(stations)/fraction*2)):int(np.round(len(stations)/fraction*3))]\n",
    "stations_holdout16 = stations_shuffled[int(np.round(len(stations)/fraction*3)):int(np.round(len(stations)/fraction*4))]\n",
    "\n",
    "df_17 = df[df['station'].isin(stations_train)]\n",
    "df_14 = df[df['station'].isin(stations_holdout14)]\n",
    "df_15 = df[df['station'].isin(stations_holdout15)]\n",
    "df_16 = df[df['station'].isin(stations_holdout16)]"
   ]
  },
  {
   "cell_type": "code",
   "execution_count": 4,
   "metadata": {},
   "outputs": [
    {
     "name": "stdout",
     "output_type": "stream",
     "text": [
      "288148 285757 280102 287220\n"
     ]
    }
   ],
   "source": [
    "print(len(df_17), len(df_14), len(df_15), len(df_16))"
   ]
  },
  {
   "cell_type": "code",
   "execution_count": 5,
   "metadata": {
    "scrolled": true
   },
   "outputs": [
    {
     "name": "stdout",
     "output_type": "stream",
     "text": [
      "(217112, 7) (17658, 7)\n",
      "(211770, 7) (18086, 7)\n",
      "(207350, 7) (17889, 7)\n",
      "(215511, 7) (17361, 7)\n"
     ]
    }
   ],
   "source": [
    "#divide test and training to test effective of model to different timeframe (start of 2017)\n",
    "training_years = [2014,2015,2016]\n",
    "testing_days = list(range(90))\n",
    "\n",
    "df_train17 = df_17[df_17['year'].isin(training_years)]\n",
    "df_test17 = df_17[~df_17['year'].isin(training_years)]\n",
    "df_test17 = df_test17[df_test17['day'].isin(testing_days)]\n",
    "print(df_train17.shape,df_test17.shape)\n",
    "\n",
    "training_years = [2017,2015,2016]\n",
    "df_train14 = df_14[df_14['year'].isin(training_years)]\n",
    "df_test14 = df_14[~df_14['year'].isin(training_years)]\n",
    "df_test14 = df_test14[df_test14['day'].isin(testing_days)]\n",
    "print(df_train14.shape,df_test14.shape)\n",
    "\n",
    "training_years = [2017,2014,2016]\n",
    "df_train15 = df_15[df_15['year'].isin(training_years)]\n",
    "df_test15 = df_15[~df_15['year'].isin(training_years)]\n",
    "df_test15 = df_test15[df_test15['day'].isin(testing_days)]\n",
    "print(df_train15.shape,df_test15.shape)\n",
    "\n",
    "training_years = [2017,2015,2014]\n",
    "df_train16 = df_16[df_16['year'].isin(training_years)]\n",
    "df_test16 = df_16[~df_16['year'].isin(training_years)]\n",
    "df_test16 = df_test16[df_test16['day'].isin(testing_days)]\n",
    "print(df_train16.shape,df_test16.shape)"
   ]
  },
  {
   "cell_type": "code",
   "execution_count": 6,
   "metadata": {},
   "outputs": [],
   "source": [
    "#define split for CV later on\n",
    "split = [[df_train17.index.values, df_test17.index.values], [df_train16.index.values, df_test16.index.values],\n",
    "         [df_train15.index.values, df_test15.index.values],[df_train14.index.values, df_test14.index.values]]"
   ]
  },
  {
   "cell_type": "code",
   "execution_count": 7,
   "metadata": {},
   "outputs": [],
   "source": [
    "#seperate target from features\n",
    "\n",
    "df_X_raw = df.drop(columns='TMIN')\n",
    "sy = df['TMIN']\n",
    "y_raw = sy.reshape(-1,1)"
   ]
  },
  {
   "cell_type": "code",
   "execution_count": 8,
   "metadata": {},
   "outputs": [
    {
     "data": {
      "text/plain": [
       "(18683824, 6)"
      ]
     },
     "execution_count": 8,
     "metadata": {},
     "output_type": "execute_result"
    }
   ],
   "source": [
    "df_X_raw.shape"
   ]
  },
  {
   "cell_type": "code",
   "execution_count": 9,
   "metadata": {},
   "outputs": [],
   "source": [
    "# int encode stations\n",
    "#LB = LabelBinarizer()\n",
    "#df_X['station'] = LB.fit_transform(df_X[['station']])\n",
    "df_X_red = df_X_raw.drop(columns='station')"
   ]
  },
  {
   "cell_type": "code",
   "execution_count": 10,
   "metadata": {},
   "outputs": [],
   "source": [
    "#X_dict = df_X.to_dict('records')\n",
    "#vec = DictVectorizer()\n",
    "#X = vec.fit_transform(X_dict).toarray()\n",
    "#X_dummies = pd.get_dummies(df_X)\n",
    "#X = X_dummies.to_dict('records')"
   ]
  },
  {
   "cell_type": "code",
   "execution_count": 11,
   "metadata": {},
   "outputs": [],
   "source": [
    "# normalize features\n",
    "X_raw = df_X_red.values\n",
    "y_raw = y_raw.astype('float32')\n",
    "\n",
    "scaler = MinMaxScaler(feature_range=(0, 1))                             \n",
    "X = scaler.fit_transform(X_raw)\n",
    "y = scaler.fit_transform(y_raw).ravel()"
   ]
  },
  {
   "cell_type": "code",
   "execution_count": null,
   "metadata": {},
   "outputs": [],
   "source": [
    "{'n_estimators': 100, 'min_samples_split': 10, 'min_samples_leaf': 10, 'max_features': 3, 'max_depth': 10, 'bootstrap': True}"
   ]
  },
  {
   "cell_type": "code",
   "execution_count": 14,
   "metadata": {
    "scrolled": true
   },
   "outputs": [
    {
     "name": "stdout",
     "output_type": "stream",
     "text": [
      "Fitting 4 folds for each of 25 candidates, totalling 100 fits\n",
      "[CV] n_estimators=100, min_samples_split=10, min_samples_leaf=10, max_features=4, max_depth=10, bootstrap=True \n",
      "[CV] n_estimators=100, min_samples_split=10, min_samples_leaf=10, max_features=4, max_depth=10, bootstrap=True \n",
      "[CV] n_estimators=100, min_samples_split=10, min_samples_leaf=10, max_features=4, max_depth=10, bootstrap=True \n",
      "[CV] n_estimators=100, min_samples_split=10, min_samples_leaf=10, max_features=4, max_depth=10, bootstrap=True \n",
      "[CV]  n_estimators=100, min_samples_split=10, min_samples_leaf=10, max_features=4, max_depth=10, bootstrap=True, total=  56.2s\n",
      "[CV] n_estimators=100, min_samples_split=10, min_samples_leaf=10, max_features=2, max_depth=13, bootstrap=True \n",
      "[CV]  n_estimators=100, min_samples_split=10, min_samples_leaf=10, max_features=4, max_depth=10, bootstrap=True, total=  55.1s\n",
      "[CV]  n_estimators=100, min_samples_split=10, min_samples_leaf=10, max_features=4, max_depth=10, bootstrap=True, total=  53.6s\n",
      "[CV] n_estimators=100, min_samples_split=10, min_samples_leaf=10, max_features=2, max_depth=13, bootstrap=True \n",
      "[CV]  n_estimators=100, min_samples_split=10, min_samples_leaf=10, max_features=4, max_depth=10, bootstrap=True, total=  56.7s\n",
      "[CV] n_estimators=100, min_samples_split=10, min_samples_leaf=10, max_features=2, max_depth=13, bootstrap=True \n",
      "[CV] n_estimators=100, min_samples_split=10, min_samples_leaf=10, max_features=2, max_depth=13, bootstrap=True \n",
      "[CV]  n_estimators=100, min_samples_split=10, min_samples_leaf=10, max_features=2, max_depth=13, bootstrap=True, total=  42.0s\n",
      "[CV]  n_estimators=100, min_samples_split=10, min_samples_leaf=10, max_features=2, max_depth=13, bootstrap=True, total=  39.4s\n",
      "[CV] n_estimators=150, min_samples_split=10, min_samples_leaf=10, max_features=4, max_depth=13, bootstrap=True \n",
      "[CV]  n_estimators=100, min_samples_split=10, min_samples_leaf=10, max_features=2, max_depth=13, bootstrap=True, total=  37.1s\n",
      "[CV] n_estimators=150, min_samples_split=10, min_samples_leaf=10, max_features=4, max_depth=13, bootstrap=True \n",
      "[CV] n_estimators=150, min_samples_split=10, min_samples_leaf=10, max_features=4, max_depth=13, bootstrap=True \n",
      "[CV]  n_estimators=100, min_samples_split=10, min_samples_leaf=10, max_features=2, max_depth=13, bootstrap=True, total=  36.9s\n",
      "[CV] n_estimators=150, min_samples_split=10, min_samples_leaf=10, max_features=4, max_depth=13, bootstrap=True \n",
      "[CV]  n_estimators=150, min_samples_split=10, min_samples_leaf=10, max_features=4, max_depth=13, bootstrap=True, total= 1.3min\n",
      "[CV] n_estimators=50, min_samples_split=15, min_samples_leaf=15, max_features=2, max_depth=13, bootstrap=True \n",
      "[CV]  n_estimators=150, min_samples_split=10, min_samples_leaf=10, max_features=4, max_depth=13, bootstrap=True, total= 1.3min\n",
      "[CV] n_estimators=50, min_samples_split=15, min_samples_leaf=15, max_features=2, max_depth=13, bootstrap=True \n",
      "[CV]  n_estimators=150, min_samples_split=10, min_samples_leaf=10, max_features=4, max_depth=13, bootstrap=True, total= 1.4min\n",
      "[CV] n_estimators=50, min_samples_split=15, min_samples_leaf=15, max_features=2, max_depth=13, bootstrap=True \n",
      "[CV]  n_estimators=150, min_samples_split=10, min_samples_leaf=10, max_features=4, max_depth=13, bootstrap=True, total= 1.3min\n",
      "[CV] n_estimators=50, min_samples_split=15, min_samples_leaf=15, max_features=2, max_depth=13, bootstrap=True \n",
      "[CV]  n_estimators=50, min_samples_split=15, min_samples_leaf=15, max_features=2, max_depth=13, bootstrap=True, total=  19.9s\n",
      "[CV] n_estimators=50, min_samples_split=10, min_samples_leaf=10, max_features=4, max_depth=7, bootstrap=True \n",
      "[CV]  n_estimators=50, min_samples_split=15, min_samples_leaf=15, max_features=2, max_depth=13, bootstrap=True, total=  19.0s\n",
      "[CV] n_estimators=50, min_samples_split=10, min_samples_leaf=10, max_features=4, max_depth=7, bootstrap=True \n",
      "[CV]  n_estimators=50, min_samples_split=15, min_samples_leaf=15, max_features=2, max_depth=13, bootstrap=True, total=  18.7s\n",
      "[CV] n_estimators=50, min_samples_split=10, min_samples_leaf=10, max_features=4, max_depth=7, bootstrap=True \n",
      "[CV]  n_estimators=50, min_samples_split=15, min_samples_leaf=15, max_features=2, max_depth=13, bootstrap=True, total=  19.1s\n",
      "[CV] n_estimators=50, min_samples_split=10, min_samples_leaf=10, max_features=4, max_depth=7, bootstrap=True \n",
      "[CV]  n_estimators=50, min_samples_split=10, min_samples_leaf=10, max_features=4, max_depth=7, bootstrap=True, total=  22.8s\n",
      "[CV] n_estimators=50, min_samples_split=10, min_samples_leaf=10, max_features=2, max_depth=7, bootstrap=True \n",
      "[CV]  n_estimators=50, min_samples_split=10, min_samples_leaf=10, max_features=4, max_depth=7, bootstrap=True, total=  21.9s\n",
      "[CV] n_estimators=50, min_samples_split=10, min_samples_leaf=10, max_features=2, max_depth=7, bootstrap=True \n",
      "[CV]  n_estimators=50, min_samples_split=10, min_samples_leaf=10, max_features=4, max_depth=7, bootstrap=True, total=  21.4s\n",
      "[CV] n_estimators=50, min_samples_split=10, min_samples_leaf=10, max_features=2, max_depth=7, bootstrap=True \n",
      "[CV]  n_estimators=50, min_samples_split=10, min_samples_leaf=10, max_features=4, max_depth=7, bootstrap=True, total=  22.0s\n",
      "[CV] n_estimators=50, min_samples_split=10, min_samples_leaf=10, max_features=2, max_depth=7, bootstrap=True \n",
      "[CV]  n_estimators=50, min_samples_split=10, min_samples_leaf=10, max_features=2, max_depth=7, bootstrap=True, total=  14.6s\n",
      "[CV] n_estimators=50, min_samples_split=10, min_samples_leaf=15, max_features=4, max_depth=7, bootstrap=True \n",
      "[CV]  n_estimators=50, min_samples_split=10, min_samples_leaf=10, max_features=2, max_depth=7, bootstrap=True, total=  14.2s\n",
      "[CV] n_estimators=50, min_samples_split=10, min_samples_leaf=15, max_features=4, max_depth=7, bootstrap=True \n",
      "[CV]  n_estimators=50, min_samples_split=10, min_samples_leaf=10, max_features=2, max_depth=7, bootstrap=True, total=  14.4s\n",
      "[CV] n_estimators=50, min_samples_split=10, min_samples_leaf=15, max_features=4, max_depth=7, bootstrap=True \n",
      "[CV]  n_estimators=50, min_samples_split=10, min_samples_leaf=10, max_features=2, max_depth=7, bootstrap=True, total=  14.7s\n",
      "[CV] n_estimators=50, min_samples_split=10, min_samples_leaf=15, max_features=4, max_depth=7, bootstrap=True \n",
      "[CV]  n_estimators=50, min_samples_split=10, min_samples_leaf=15, max_features=4, max_depth=7, bootstrap=True, total=  22.8s\n",
      "[CV] n_estimators=100, min_samples_split=15, min_samples_leaf=15, max_features=4, max_depth=7, bootstrap=True \n",
      "[CV]  n_estimators=50, min_samples_split=10, min_samples_leaf=15, max_features=4, max_depth=7, bootstrap=True, total=  22.1s\n",
      "[CV] n_estimators=100, min_samples_split=15, min_samples_leaf=15, max_features=4, max_depth=7, bootstrap=True \n",
      "[CV]  n_estimators=50, min_samples_split=10, min_samples_leaf=15, max_features=4, max_depth=7, bootstrap=True, total=  21.5s\n",
      "[CV] n_estimators=100, min_samples_split=15, min_samples_leaf=15, max_features=4, max_depth=7, bootstrap=True \n",
      "[CV]  n_estimators=50, min_samples_split=10, min_samples_leaf=15, max_features=4, max_depth=7, bootstrap=True, total=  21.9s\n",
      "[CV] n_estimators=100, min_samples_split=15, min_samples_leaf=15, max_features=4, max_depth=7, bootstrap=True \n",
      "[CV]  n_estimators=100, min_samples_split=15, min_samples_leaf=15, max_features=4, max_depth=7, bootstrap=True, total=  39.5s\n",
      "[CV] n_estimators=100, min_samples_split=15, min_samples_leaf=10, max_features=4, max_depth=13, bootstrap=True \n",
      "[CV]  n_estimators=100, min_samples_split=15, min_samples_leaf=15, max_features=4, max_depth=7, bootstrap=True, total=  38.6s\n",
      "[CV] n_estimators=100, min_samples_split=15, min_samples_leaf=10, max_features=4, max_depth=13, bootstrap=True \n",
      "[CV]  n_estimators=100, min_samples_split=15, min_samples_leaf=15, max_features=4, max_depth=7, bootstrap=True, total=  37.0s\n",
      "[CV] n_estimators=100, min_samples_split=15, min_samples_leaf=10, max_features=4, max_depth=13, bootstrap=True \n",
      "[CV]  n_estimators=100, min_samples_split=15, min_samples_leaf=15, max_features=4, max_depth=7, bootstrap=True, total=  37.5s\n",
      "[CV] n_estimators=100, min_samples_split=15, min_samples_leaf=10, max_features=4, max_depth=13, bootstrap=True \n",
      "[CV]  n_estimators=100, min_samples_split=15, min_samples_leaf=10, max_features=4, max_depth=13, bootstrap=True, total=  56.6s\n"
     ]
    },
    {
     "name": "stderr",
     "output_type": "stream",
     "text": [
      "[Parallel(n_jobs=-1)]: Done  33 tasks      | elapsed:  6.2min\n"
     ]
    },
    {
     "name": "stdout",
     "output_type": "stream",
     "text": [
      "[CV] n_estimators=150, min_samples_split=15, min_samples_leaf=10, max_features=4, max_depth=13, bootstrap=True \n",
      "[CV]  n_estimators=100, min_samples_split=15, min_samples_leaf=10, max_features=4, max_depth=13, bootstrap=True, total=  59.8s\n",
      "[CV]  n_estimators=100, min_samples_split=15, min_samples_leaf=10, max_features=4, max_depth=13, bootstrap=True, total=  56.2s\n",
      "[CV] n_estimators=150, min_samples_split=15, min_samples_leaf=10, max_features=4, max_depth=13, bootstrap=True \n",
      "[CV] n_estimators=150, min_samples_split=15, min_samples_leaf=10, max_features=4, max_depth=13, bootstrap=True \n",
      "[CV]  n_estimators=100, min_samples_split=15, min_samples_leaf=10, max_features=4, max_depth=13, bootstrap=True, total=  57.4s\n",
      "[CV] n_estimators=150, min_samples_split=15, min_samples_leaf=10, max_features=4, max_depth=13, bootstrap=True \n",
      "[CV]  n_estimators=150, min_samples_split=15, min_samples_leaf=10, max_features=4, max_depth=13, bootstrap=True, total= 1.3min\n",
      "[CV] n_estimators=100, min_samples_split=15, min_samples_leaf=15, max_features=2, max_depth=13, bootstrap=True \n",
      "[CV]  n_estimators=150, min_samples_split=15, min_samples_leaf=10, max_features=4, max_depth=13, bootstrap=True, total= 1.3min\n",
      "[CV] n_estimators=100, min_samples_split=15, min_samples_leaf=15, max_features=2, max_depth=13, bootstrap=True \n",
      "[CV]  n_estimators=150, min_samples_split=15, min_samples_leaf=10, max_features=4, max_depth=13, bootstrap=True, total= 1.4min\n",
      "[CV] n_estimators=100, min_samples_split=15, min_samples_leaf=15, max_features=2, max_depth=13, bootstrap=True \n",
      "[CV]  n_estimators=150, min_samples_split=15, min_samples_leaf=10, max_features=4, max_depth=13, bootstrap=True, total= 1.3min\n",
      "[CV] n_estimators=100, min_samples_split=15, min_samples_leaf=15, max_features=2, max_depth=13, bootstrap=True \n",
      "[CV]  n_estimators=100, min_samples_split=15, min_samples_leaf=15, max_features=2, max_depth=13, bootstrap=True, total=  35.5s\n",
      "[CV]  n_estimators=100, min_samples_split=15, min_samples_leaf=15, max_features=2, max_depth=13, bootstrap=True, total=  33.6s\n",
      "[CV] n_estimators=150, min_samples_split=10, min_samples_leaf=15, max_features=2, max_depth=13, bootstrap=True \n",
      "[CV]  n_estimators=100, min_samples_split=15, min_samples_leaf=15, max_features=2, max_depth=13, bootstrap=True, total=  32.8s\n",
      "[CV] n_estimators=150, min_samples_split=10, min_samples_leaf=15, max_features=2, max_depth=13, bootstrap=True \n",
      "[CV] n_estimators=150, min_samples_split=10, min_samples_leaf=15, max_features=2, max_depth=13, bootstrap=True \n",
      "[CV]  n_estimators=100, min_samples_split=15, min_samples_leaf=15, max_features=2, max_depth=13, bootstrap=True, total=  32.7s\n",
      "[CV] n_estimators=150, min_samples_split=10, min_samples_leaf=15, max_features=2, max_depth=13, bootstrap=True \n",
      "[CV]  n_estimators=150, min_samples_split=10, min_samples_leaf=15, max_features=2, max_depth=13, bootstrap=True, total=  44.4s\n",
      "[CV] n_estimators=100, min_samples_split=10, min_samples_leaf=15, max_features=2, max_depth=7, bootstrap=True \n",
      "[CV]  n_estimators=150, min_samples_split=10, min_samples_leaf=15, max_features=2, max_depth=13, bootstrap=True, total=  46.8s\n",
      "[CV]  n_estimators=150, min_samples_split=10, min_samples_leaf=15, max_features=2, max_depth=13, bootstrap=True, total=  43.1s\n",
      "[CV] n_estimators=100, min_samples_split=10, min_samples_leaf=15, max_features=2, max_depth=7, bootstrap=True \n",
      "[CV]  n_estimators=150, min_samples_split=10, min_samples_leaf=15, max_features=2, max_depth=13, bootstrap=True, total=  43.6s\n",
      "[CV] n_estimators=100, min_samples_split=10, min_samples_leaf=15, max_features=2, max_depth=7, bootstrap=True \n",
      "[CV] n_estimators=100, min_samples_split=10, min_samples_leaf=15, max_features=2, max_depth=7, bootstrap=True \n",
      "[CV]  n_estimators=100, min_samples_split=10, min_samples_leaf=15, max_features=2, max_depth=7, bootstrap=True, total=  22.1s\n",
      "[CV] n_estimators=100, min_samples_split=15, min_samples_leaf=10, max_features=3, max_depth=13, bootstrap=True \n",
      "[CV]  n_estimators=100, min_samples_split=10, min_samples_leaf=15, max_features=2, max_depth=7, bootstrap=True, total=  21.1s\n",
      "[CV] n_estimators=100, min_samples_split=15, min_samples_leaf=10, max_features=3, max_depth=13, bootstrap=True \n",
      "[CV]  n_estimators=100, min_samples_split=10, min_samples_leaf=15, max_features=2, max_depth=7, bootstrap=True, total=  20.9s\n",
      "[CV] n_estimators=100, min_samples_split=15, min_samples_leaf=10, max_features=3, max_depth=13, bootstrap=True \n",
      "[CV]  n_estimators=100, min_samples_split=10, min_samples_leaf=15, max_features=2, max_depth=7, bootstrap=True, total=  21.6s\n",
      "[CV] n_estimators=100, min_samples_split=15, min_samples_leaf=10, max_features=3, max_depth=13, bootstrap=True \n",
      "[CV]  n_estimators=100, min_samples_split=15, min_samples_leaf=10, max_features=3, max_depth=13, bootstrap=True, total=  38.9s\n",
      "[CV] n_estimators=150, min_samples_split=15, min_samples_leaf=10, max_features=2, max_depth=7, bootstrap=True \n",
      "[CV]  n_estimators=100, min_samples_split=15, min_samples_leaf=10, max_features=3, max_depth=13, bootstrap=True, total=  41.4s\n",
      "[CV]  n_estimators=100, min_samples_split=15, min_samples_leaf=10, max_features=3, max_depth=13, bootstrap=True, total=  38.0s\n",
      "[CV] n_estimators=150, min_samples_split=15, min_samples_leaf=10, max_features=2, max_depth=7, bootstrap=True \n",
      "[CV] n_estimators=150, min_samples_split=15, min_samples_leaf=10, max_features=2, max_depth=7, bootstrap=True \n",
      "[CV]  n_estimators=100, min_samples_split=15, min_samples_leaf=10, max_features=3, max_depth=13, bootstrap=True, total=  39.0s\n",
      "[CV] n_estimators=150, min_samples_split=15, min_samples_leaf=10, max_features=2, max_depth=7, bootstrap=True \n",
      "[CV]  n_estimators=150, min_samples_split=15, min_samples_leaf=10, max_features=2, max_depth=7, bootstrap=True, total=  42.8s\n",
      "[CV] n_estimators=100, min_samples_split=10, min_samples_leaf=10, max_features=2, max_depth=10, bootstrap=True \n",
      "[CV]  n_estimators=150, min_samples_split=15, min_samples_leaf=10, max_features=2, max_depth=7, bootstrap=True, total=  42.1s\n",
      "[CV]  n_estimators=150, min_samples_split=15, min_samples_leaf=10, max_features=2, max_depth=7, bootstrap=True, total=  44.2s\n",
      "[CV] n_estimators=100, min_samples_split=10, min_samples_leaf=10, max_features=2, max_depth=10, bootstrap=True \n",
      "[CV] n_estimators=100, min_samples_split=10, min_samples_leaf=10, max_features=2, max_depth=10, bootstrap=True \n",
      "[CV]  n_estimators=150, min_samples_split=15, min_samples_leaf=10, max_features=2, max_depth=7, bootstrap=True, total=  46.9s\n",
      "[CV] n_estimators=100, min_samples_split=10, min_samples_leaf=10, max_features=2, max_depth=10, bootstrap=True \n",
      "[CV]  n_estimators=100, min_samples_split=10, min_samples_leaf=10, max_features=2, max_depth=10, bootstrap=True, total=  42.0s\n",
      "[CV]  n_estimators=100, min_samples_split=10, min_samples_leaf=10, max_features=2, max_depth=10, bootstrap=True, total=  38.3s\n",
      "[CV] n_estimators=100, min_samples_split=10, min_samples_leaf=15, max_features=2, max_depth=10, bootstrap=True \n",
      "[CV]  n_estimators=100, min_samples_split=10, min_samples_leaf=10, max_features=2, max_depth=10, bootstrap=True, total=  36.7s\n",
      "[CV] n_estimators=100, min_samples_split=10, min_samples_leaf=15, max_features=2, max_depth=10, bootstrap=True \n",
      "[CV] n_estimators=100, min_samples_split=10, min_samples_leaf=15, max_features=2, max_depth=10, bootstrap=True \n",
      "[CV]  n_estimators=100, min_samples_split=10, min_samples_leaf=10, max_features=2, max_depth=10, bootstrap=True, total=  36.6s\n",
      "[CV] n_estimators=100, min_samples_split=10, min_samples_leaf=15, max_features=2, max_depth=10, bootstrap=True \n",
      "[CV]  n_estimators=100, min_samples_split=10, min_samples_leaf=15, max_features=2, max_depth=10, bootstrap=True, total=  31.7s\n",
      "[CV] n_estimators=100, min_samples_split=10, min_samples_leaf=10, max_features=2, max_depth=7, bootstrap=True \n",
      "[CV]  n_estimators=100, min_samples_split=10, min_samples_leaf=15, max_features=2, max_depth=10, bootstrap=True, total=  30.6s\n",
      "[CV] n_estimators=100, min_samples_split=10, min_samples_leaf=10, max_features=2, max_depth=7, bootstrap=True \n",
      "[CV]  n_estimators=100, min_samples_split=10, min_samples_leaf=15, max_features=2, max_depth=10, bootstrap=True, total=  29.0s\n",
      "[CV] n_estimators=100, min_samples_split=10, min_samples_leaf=10, max_features=2, max_depth=7, bootstrap=True \n"
     ]
    },
    {
     "name": "stdout",
     "output_type": "stream",
     "text": [
      "[CV]  n_estimators=100, min_samples_split=10, min_samples_leaf=15, max_features=2, max_depth=10, bootstrap=True, total=  29.4s\n",
      "[CV] n_estimators=100, min_samples_split=10, min_samples_leaf=10, max_features=2, max_depth=7, bootstrap=True \n",
      "[CV]  n_estimators=100, min_samples_split=10, min_samples_leaf=10, max_features=2, max_depth=7, bootstrap=True, total=  24.3s\n",
      "[CV] n_estimators=150, min_samples_split=15, min_samples_leaf=10, max_features=2, max_depth=10, bootstrap=True \n",
      "[CV]  n_estimators=100, min_samples_split=10, min_samples_leaf=10, max_features=2, max_depth=7, bootstrap=True, total=  23.6s\n",
      "[CV] n_estimators=150, min_samples_split=15, min_samples_leaf=10, max_features=2, max_depth=10, bootstrap=True \n",
      "[CV]  n_estimators=100, min_samples_split=10, min_samples_leaf=10, max_features=2, max_depth=7, bootstrap=True, total=  23.8s\n",
      "[CV] n_estimators=150, min_samples_split=15, min_samples_leaf=10, max_features=2, max_depth=10, bootstrap=True \n",
      "[CV]  n_estimators=100, min_samples_split=10, min_samples_leaf=10, max_features=2, max_depth=7, bootstrap=True, total=  24.4s\n",
      "[CV] n_estimators=150, min_samples_split=15, min_samples_leaf=10, max_features=2, max_depth=10, bootstrap=True \n",
      "[CV]  n_estimators=150, min_samples_split=15, min_samples_leaf=10, max_features=2, max_depth=10, bootstrap=True, total=  42.5s\n",
      "[CV]  n_estimators=150, min_samples_split=15, min_samples_leaf=10, max_features=2, max_depth=10, bootstrap=True, total=  45.2s\n",
      "[CV] n_estimators=150, min_samples_split=10, min_samples_leaf=15, max_features=3, max_depth=7, bootstrap=True \n",
      "[CV]  n_estimators=150, min_samples_split=15, min_samples_leaf=10, max_features=2, max_depth=10, bootstrap=True, total=  41.0s\n",
      "[CV] n_estimators=150, min_samples_split=10, min_samples_leaf=15, max_features=3, max_depth=7, bootstrap=True \n",
      "[CV]  n_estimators=150, min_samples_split=15, min_samples_leaf=10, max_features=2, max_depth=10, bootstrap=True, total=  41.2s\n",
      "[CV] n_estimators=150, min_samples_split=10, min_samples_leaf=15, max_features=3, max_depth=7, bootstrap=True \n",
      "[CV] n_estimators=150, min_samples_split=10, min_samples_leaf=15, max_features=3, max_depth=7, bootstrap=True \n",
      "[CV]  n_estimators=150, min_samples_split=10, min_samples_leaf=15, max_features=3, max_depth=7, bootstrap=True, total=  50.7s\n",
      "[CV] n_estimators=50, min_samples_split=15, min_samples_leaf=10, max_features=4, max_depth=10, bootstrap=True \n",
      "[CV]  n_estimators=150, min_samples_split=10, min_samples_leaf=15, max_features=3, max_depth=7, bootstrap=True, total=  49.2s\n",
      "[CV]  n_estimators=150, min_samples_split=10, min_samples_leaf=15, max_features=3, max_depth=7, bootstrap=True, total=  48.7s\n",
      "[CV] n_estimators=50, min_samples_split=15, min_samples_leaf=10, max_features=4, max_depth=10, bootstrap=True \n",
      "[CV] n_estimators=50, min_samples_split=15, min_samples_leaf=10, max_features=4, max_depth=10, bootstrap=True \n",
      "[CV]  n_estimators=150, min_samples_split=10, min_samples_leaf=15, max_features=3, max_depth=7, bootstrap=True, total=  50.4s\n",
      "[CV] n_estimators=50, min_samples_split=15, min_samples_leaf=10, max_features=4, max_depth=10, bootstrap=True \n",
      "[CV]  n_estimators=50, min_samples_split=15, min_samples_leaf=10, max_features=4, max_depth=10, bootstrap=True, total=  33.3s\n",
      "[CV] n_estimators=100, min_samples_split=10, min_samples_leaf=10, max_features=3, max_depth=10, bootstrap=True \n",
      "[CV]  n_estimators=50, min_samples_split=15, min_samples_leaf=10, max_features=4, max_depth=10, bootstrap=True, total=  31.7s\n",
      "[CV]  n_estimators=50, min_samples_split=15, min_samples_leaf=10, max_features=4, max_depth=10, bootstrap=True, total=  31.1s\n",
      "[CV] n_estimators=100, min_samples_split=10, min_samples_leaf=10, max_features=3, max_depth=10, bootstrap=True \n",
      "[CV] n_estimators=100, min_samples_split=10, min_samples_leaf=10, max_features=3, max_depth=10, bootstrap=True \n",
      "[CV]  n_estimators=50, min_samples_split=15, min_samples_leaf=10, max_features=4, max_depth=10, bootstrap=True, total=  32.1s\n",
      "[CV] n_estimators=100, min_samples_split=10, min_samples_leaf=10, max_features=3, max_depth=10, bootstrap=True \n",
      "[CV]  n_estimators=100, min_samples_split=10, min_samples_leaf=10, max_features=3, max_depth=10, bootstrap=True, total=  47.5s\n",
      "[CV] n_estimators=100, min_samples_split=15, min_samples_leaf=10, max_features=2, max_depth=10, bootstrap=True \n",
      "[CV]  n_estimators=100, min_samples_split=10, min_samples_leaf=10, max_features=3, max_depth=10, bootstrap=True, total=  50.7s\n",
      "[CV]  n_estimators=100, min_samples_split=10, min_samples_leaf=10, max_features=3, max_depth=10, bootstrap=True, total=  45.3s\n",
      "[CV] n_estimators=100, min_samples_split=15, min_samples_leaf=10, max_features=2, max_depth=10, bootstrap=True \n",
      "[CV]  n_estimators=100, min_samples_split=10, min_samples_leaf=10, max_features=3, max_depth=10, bootstrap=True, total=  44.1s\n",
      "[CV] n_estimators=100, min_samples_split=15, min_samples_leaf=10, max_features=2, max_depth=10, bootstrap=True \n",
      "[CV] n_estimators=100, min_samples_split=15, min_samples_leaf=10, max_features=2, max_depth=10, bootstrap=True \n",
      "[CV]  n_estimators=100, min_samples_split=15, min_samples_leaf=10, max_features=2, max_depth=10, bootstrap=True, total=  30.8s\n",
      "[CV] n_estimators=50, min_samples_split=15, min_samples_leaf=15, max_features=4, max_depth=7, bootstrap=True \n",
      "[CV]  n_estimators=100, min_samples_split=15, min_samples_leaf=10, max_features=2, max_depth=10, bootstrap=True, total=  29.5s\n",
      "[CV]  n_estimators=100, min_samples_split=15, min_samples_leaf=10, max_features=2, max_depth=10, bootstrap=True, total=  29.1s\n",
      "[CV] n_estimators=50, min_samples_split=15, min_samples_leaf=15, max_features=4, max_depth=7, bootstrap=True \n",
      "[CV] n_estimators=50, min_samples_split=15, min_samples_leaf=15, max_features=4, max_depth=7, bootstrap=True \n",
      "[CV]  n_estimators=100, min_samples_split=15, min_samples_leaf=10, max_features=2, max_depth=10, bootstrap=True, total=  29.6s\n",
      "[CV] n_estimators=50, min_samples_split=15, min_samples_leaf=15, max_features=4, max_depth=7, bootstrap=True \n",
      "[CV]  n_estimators=50, min_samples_split=15, min_samples_leaf=15, max_features=4, max_depth=7, bootstrap=True, total=  20.4s\n",
      "[CV] n_estimators=100, min_samples_split=10, min_samples_leaf=15, max_features=4, max_depth=7, bootstrap=True \n",
      "[CV]  n_estimators=50, min_samples_split=15, min_samples_leaf=15, max_features=4, max_depth=7, bootstrap=True, total=  18.9s\n",
      "[CV] n_estimators=100, min_samples_split=10, min_samples_leaf=15, max_features=4, max_depth=7, bootstrap=True \n",
      "[CV]  n_estimators=50, min_samples_split=15, min_samples_leaf=15, max_features=4, max_depth=7, bootstrap=True, total=  18.8s\n",
      "[CV] n_estimators=100, min_samples_split=10, min_samples_leaf=15, max_features=4, max_depth=7, bootstrap=True \n",
      "[CV]  n_estimators=50, min_samples_split=15, min_samples_leaf=15, max_features=4, max_depth=7, bootstrap=True, total=  19.0s\n",
      "[CV] n_estimators=100, min_samples_split=10, min_samples_leaf=15, max_features=4, max_depth=7, bootstrap=True \n",
      "[CV]  n_estimators=100, min_samples_split=10, min_samples_leaf=15, max_features=4, max_depth=7, bootstrap=True, total=  37.9s\n",
      "[CV]  n_estimators=100, min_samples_split=10, min_samples_leaf=15, max_features=4, max_depth=7, bootstrap=True, total=  37.1s\n",
      "[CV]  n_estimators=100, min_samples_split=10, min_samples_leaf=15, max_features=4, max_depth=7, bootstrap=True, total=  35.3s\n",
      "[CV]  n_estimators=100, min_samples_split=10, min_samples_leaf=15, max_features=4, max_depth=7, bootstrap=True, total=  35.2s\n"
     ]
    },
    {
     "name": "stderr",
     "output_type": "stream",
     "text": [
      "[Parallel(n_jobs=-1)]: Done 100 out of 100 | elapsed: 17.3min finished\n"
     ]
    },
    {
     "name": "stdout",
     "output_type": "stream",
     "text": [
      "0.7531046783052038\n",
      "{'n_estimators': 150, 'min_samples_split': 10, 'min_samples_leaf': 15, 'max_features': 2, 'max_depth': 13, 'bootstrap': True}\n"
     ]
    }
   ],
   "source": [
    "param_grid = {\"n_estimators\": [50, 100, 150],\n",
    "    \"max_depth\":[7, 10, 13],\n",
    "    \"max_features\": [2, 3, 4],\n",
    "    \"min_samples_split\": [10],\n",
    "    \"min_samples_leaf\": [10, 15],\n",
    "    \"bootstrap\": [True]}\n",
    "\n",
    "\n",
    "model = RandomForestRegressor(random_state=0)\n",
    "grid = RandomizedSearchCV(estimator=model, verbose=2, param_distributions=param_grid, n_iter=25, cv=split, n_jobs=-1)\n",
    "grid.fit(X, y)\n",
    "\n",
    "print(grid.best_score_)\n",
    "print(grid.best_params_)"
   ]
  },
  {
   "cell_type": "code",
   "execution_count": 19,
   "metadata": {},
   "outputs": [
    {
     "data": {
      "text/plain": [
       "['../models/max/simple_random_forest.pkl']"
      ]
     },
     "execution_count": 19,
     "metadata": {},
     "output_type": "execute_result"
    }
   ],
   "source": [
    "joblib.dump(grid, '../models/max/simple_random_forest.pkl')"
   ]
  },
  {
   "cell_type": "markdown",
   "metadata": {},
   "source": [
    "## Predict"
   ]
  },
  {
   "cell_type": "code",
   "execution_count": 35,
   "metadata": {},
   "outputs": [],
   "source": [
    "SUBMISSION_PATH = '../data/2018_test.csv'\n",
    "def load_submission_file():\n",
    "    df_test = pd.read_csv(SUBMISSION_PATH)\n",
    "    return df_test\n",
    "\n",
    "def prepare_submission_file(df_test):\n",
    "    df_stations = get_station_df()\n",
    "    df_out = add_coordinates(df_test, df_stations, src_index='ID', foreign_index='station')\n",
    "    df_out = add_day_of_year_column(df_out, column_name='DATE')\n",
    "    return df_out\n",
    "    \n",
    "def save_submission(df_src, PATH):\n",
    "    df_submission = pd.DataFrame()\n",
    "    df_submission['SUB_ID'] = df_src['DATE'].apply(lambda d: str(d)) + df_src['ID']\n",
    "    df_submission['DATA_VALUE'] = df_src['DATA_VALUE']\n",
    "    df_submission.to_csv(PATH, index=False)\n",
    "    return df_submission"
   ]
  },
  {
   "cell_type": "code",
   "execution_count": 38,
   "metadata": {},
   "outputs": [],
   "source": [
    "def generate_predictions_from_simple_random_forest_model():\n",
    "    model = joblib.load('../models/max/simple_random_forest.pkl')\n",
    "    required_features = [\n",
    "        'day',\n",
    "        'year',\n",
    "        'lat',\n",
    "        'long',\n",
    "        'elev',\n",
    "        ]\n",
    "    PREDICITON_FILE_PATH = '../data/predictions/prediction_simple_random_forest_MAX.csv'\n",
    "\n",
    "    df_test = load_submission_file()\n",
    "    df_test = prepare_submission_file(df_test)\n",
    "    df_test['year'] = 2018\n",
    "    df_test.head()\n",
    "\n",
    "    # create predictions\n",
    "    df_predict = df_test\n",
    "    df_predict['DATA_VALUE'] = model.predict(df_test[required_features])\n",
    "\n",
    "    #save predictions\n",
    "    df_submission = save_submission(df_predict, PREDICITON_FILE_PATH)"
   ]
  },
  {
   "cell_type": "code",
   "execution_count": 39,
   "metadata": {},
   "outputs": [],
   "source": [
    "generate_predictions_from_simple_random_forest_model()"
   ]
  },
  {
   "cell_type": "code",
   "execution_count": null,
   "metadata": {},
   "outputs": [],
   "source": []
  }
 ],
 "metadata": {
  "kernelspec": {
   "display_name": "Python 3",
   "language": "python",
   "name": "python3"
  },
  "language_info": {
   "codemirror_mode": {
    "name": "ipython",
    "version": 3
   },
   "file_extension": ".py",
   "mimetype": "text/x-python",
   "name": "python",
   "nbconvert_exporter": "python",
   "pygments_lexer": "ipython3",
   "version": "3.6.3"
  }
 },
 "nbformat": 4,
 "nbformat_minor": 2
}
