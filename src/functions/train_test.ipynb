{
 "cells": [
  {
   "cell_type": "code",
   "execution_count": 4,
   "metadata": {},
   "outputs": [],
   "source": [
    "import numpy as np\n",
    "import pandas as pd"
   ]
  },
  {
   "cell_type": "markdown",
   "metadata": {},
   "source": [
    "# README"
   ]
  },
  {
   "cell_type": "markdown",
   "metadata": {},
   "source": [
    "**WHAT:** Code for splitting the training set by years and running cross validation to test the generalizability of our models.\n",
    "\n",
    "**HOW:** Just copy and past these functions into your notebooks. Use this code to benchmark your models offline with regards to generalizability. I commented them quite extensiveley, but just let me know, if you have any questions. Best Mike. \n"
   ]
  },
  {
   "cell_type": "code",
   "execution_count": 5,
   "metadata": {},
   "outputs": [],
   "source": [
    "def calculate_rsme(df_submission, df_test):\n",
    "    '''\n",
    "    @param df_submission        pandas dataframe with two columns\n",
    "                                    [1] SUB_ID (like in submission file)\n",
    "                                    [2] DATA_VALUE (predicted value like in submission file)\n",
    "    @param df_test              pandas dataframe with two columns\n",
    "                                    [1] SUB_ID (like in submission file)\n",
    "                                    [2] TMIN (correct TMIN) \n",
    "    '''\n",
    "    df_compare = df_submission.join(df_test.set_index('SUB_ID'), on='SUB_ID', how='right')\n",
    "    \n",
    "    # return RSME\n",
    "    return ((df_compare['DATA_VALUE'] - df_compare['TMIN']) ** 2).mean() ** .5"
   ]
  },
  {
   "cell_type": "code",
   "execution_count": 12,
   "metadata": {},
   "outputs": [],
   "source": [
    "def split_data_set_by_year(df_src, test_years = []):\n",
    "    '''\n",
    "    @param df_src               pandas dataframe with a column called 'date' \n",
    "                                with the date value in YYYYMMDD format\n",
    "    @param test_years           list of years as integers that should be extracted\n",
    "                                into the test set\n",
    "    '''\n",
    "    \n",
    "    df_out = df_src.copy()\n",
    "    df_out['year'] = df_out['date'].apply(lambda s: int(str(s)[:4]))\n",
    "    \n",
    "    df_train= df_out[~df_out['year'].isin(test_years)]\n",
    "    df_test= df_out[df_out['year'].isin(test_years)]\n",
    "    \n",
    "    return df_train, df_test\n",
    "    "
   ]
  },
  {
   "cell_type": "code",
   "execution_count": 22,
   "metadata": {},
   "outputs": [],
   "source": [
    "def calculate_mean_rsme_over_years(df_src, func, years = [2014, 2015, 2016, 2017]):\n",
    "    '''\n",
    "    @param df_src               the pandas dataframe with the unfilterd train data. It needs\n",
    "                                to contain a 'station', a 'date'column in YYYYMMDD format\n",
    "                                and a 'TMIN' column with the correct tmin values.\n",
    "    @param func                 a lambda function taking a (df_train, df_test) as input\n",
    "                                and returning a pandas dataframe with the predictions in df_test.\n",
    "                                \n",
    "                                * df_train is a pandas dataframe with the same format as\n",
    "                                the one supplied in df_src, but contains only a subset of values \n",
    "                                * df_train is a pandas dataframe with the same format as\n",
    "                                the one supplied in df_src with mutual exclusive subset to df_train.\n",
    "                                Also the 'TMIN' column is removed.\n",
    "                                \n",
    "                                * df_test is a pandas dataframe and should be in the same format as \n",
    "                                the submission file. It should have the columns SUB_ID and\n",
    "                                the predicted DATA_VALUE for all values specified in df_test\n",
    "    '''\n",
    "    rsme = []\n",
    "    for year in years:\n",
    "        df_train, df_test = split_data_set_by_year(df_src, test_years = [year])\n",
    "        \n",
    "        df_test = df_test.drop(['TMIN'], axis=1)\n",
    "        \n",
    "        # callback to the lambda function to get predictions\n",
    "        df_predicted = func((df_train, df_test))\n",
    "\n",
    "        # generate solutions df\n",
    "        df_correct = pd.DataFrame(columns=['SUB_ID', 'TMIN'])\n",
    "        df_correct['SUB_ID'] = df_test['date'].apply(lambda d: str(d)) + df_src['station']\n",
    "        df_correct['TMIN'] = df_test['TMIN']\n",
    "        \n",
    "        # calculate rsme for this round\n",
    "        err = calculate_rsme(df_predicted, df_correct)\n",
    "        rsme.append(err)\n",
    "        \n",
    "    # return average rsme\n",
    "    return np.mean(rsme)\n",
    "        "
   ]
  },
  {
   "cell_type": "code",
   "execution_count": null,
   "metadata": {},
   "outputs": [],
   "source": [
    "# EXAMPLE USAGE\n",
    "\n",
    "PATH = '../../data/tmp/df_time.csv'\n",
    "df_original = pd.read_csv(PATH)\n",
    "df_original = df_original.drop(['Unnamed: 0'], axis=1)\n",
    "\n",
    "df_train, df_test = split_data_set_by_year(df_original, test_years=[2017])"
   ]
  }
 ],
 "metadata": {
  "kernelspec": {
   "display_name": "Python 3",
   "language": "python",
   "name": "python3"
  },
  "language_info": {
   "codemirror_mode": {
    "name": "ipython",
    "version": 3
   },
   "file_extension": ".py",
   "mimetype": "text/x-python",
   "name": "python",
   "nbconvert_exporter": "python",
   "pygments_lexer": "ipython3",
   "version": "3.6.4"
  }
 },
 "nbformat": 4,
 "nbformat_minor": 2
}
