{
 "cells": [
  {
   "cell_type": "code",
   "execution_count": 8,
   "metadata": {},
   "outputs": [],
   "source": [
    "import numpy as np\n",
    "import pandas as pd"
   ]
  },
  {
   "cell_type": "markdown",
   "metadata": {},
   "source": [
    "# 1. Function"
   ]
  },
  {
   "cell_type": "code",
   "execution_count": 9,
   "metadata": {},
   "outputs": [],
   "source": [
    "def blend(PATHS, aggregator):\n",
    "    '''\n",
    "    @param PATHS        list of filepaths to submission files\n",
    "    @param aggregator   callable, string, dictionary, or list of string/callables\n",
    "    \n",
    "                        see: https://pandas.pydata.org/pandas-docs/stable/generated/pandas.DataFrame.aggregate.html\n",
    "\n",
    "                        Function to use for aggregating the data. \n",
    "                        If a function, must either work when passed a \n",
    "                        DataFrame or when passed to DataFrame.apply. \n",
    "                        For a DataFrame, can pass a dict, if the keys \n",
    "                        are DataFrame column names.\n",
    "\n",
    "                        Accepted Combinations are:\n",
    "\n",
    "                        string function name\n",
    "                        function\n",
    "                        list of functions\n",
    "                        dict of column names -> functions (or list of functions)\n",
    "    '''\n",
    "    \n",
    "    df_joined = pd.DataFrame(columns=['SUB_ID'])\n",
    "    df_joined['SUB_ID'] = pd.read_csv(PATHS[0])['SUB_ID']\n",
    "    for i, path in enumerate(PATHS):\n",
    "        df = pd.read_csv(path)\n",
    "        df = df.rename(index=str, columns={'DATA_VALUE': 'DATA_VALUE_' + str(i+1)})\n",
    "        df_joined = df_joined.join(df.set_index('SUB_ID'), on='SUB_ID', how='right')\n",
    "                                   \n",
    "    column_names = list(map(lambda i: 'DATA_VALUE_' + str(i), list(range(1,len(PATHS)+1))))\n",
    "    \n",
    "    df_joined['DATA_VALUE'] = df_joined[column_names].agg(aggregator, axis=1)\n",
    "    \n",
    "    return df_joined\n",
    "\n",
    "def export(df, PATH):\n",
    "    ''' Exports a aggregated dataframe in submission file format. '''\n",
    "    df_export = df[['SUB_ID', 'DATA_VALUE']].copy()\n",
    "    df_export.to_csv(PATH, index=False)"
   ]
  },
  {
   "cell_type": "code",
   "execution_count": 13,
   "metadata": {},
   "outputs": [],
   "source": [
    "# Example Usage\n",
    "\n",
    "PATHS = [\n",
    "    '../data/predictions/prediction_boosting_clustered_MAX.csv',\n",
    "    '../data/predictions/prediction_simple_random_forest_clustered_MAX copy.csv',\n",
    "    '../data/predictions/prediction_simple_random_forest_MAX copy.csv'\n",
    "]\n",
    "\n",
    "df_aggr = blend(PATHS, 'mean')\n",
    "df_aggr.head()\n",
    "\n",
    "export(df_aggr, '../data/predictions/aggregated_submission.csv')"
   ]
  },
  {
   "cell_type": "code",
   "execution_count": null,
   "metadata": {},
   "outputs": [],
   "source": []
  }
 ],
 "metadata": {
  "kernelspec": {
   "display_name": "Python 3",
   "language": "python",
   "name": "python3"
  },
  "language_info": {
   "codemirror_mode": {
    "name": "ipython",
    "version": 3
   },
   "file_extension": ".py",
   "mimetype": "text/x-python",
   "name": "python",
   "nbconvert_exporter": "python",
   "pygments_lexer": "ipython3",
   "version": "3.6.3"
  }
 },
 "nbformat": 4,
 "nbformat_minor": 2
}
